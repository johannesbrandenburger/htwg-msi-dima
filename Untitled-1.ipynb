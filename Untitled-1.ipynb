{
 "cells": [
  {
   "cell_type": "code",
   "execution_count": null,
   "metadata": {},
   "outputs": [],
   "source": [
    "\n",
    "\n",
    "# for every zX from 0 to 99 print the table with a delay of 1 second\n",
    "\n",
    "import time\n",
    "from IPython.display import clear_output\n",
    "\n",
    "for zX in range(999):\n",
    "\n",
    "    print('\\033[1;30m{:4d}\\033[0m'.format(zX), end='')\n",
    "    for i in range(0, zX):\n",
    "        print('\\033[32m{:4d}\\033[0m'.format(i), end='')\n",
    "    print()\n",
    "\n",
    "    for i in range(zX):\n",
    "        print('\\033[32m{:4d}\\033[0m'.format(i), end='')\n",
    "        for j in range(zX):\n",
    "            r = (i*j)%zX\n",
    "            if r == 1:\n",
    "                print('\\033[1;31m{:4d}\\033[0m'.format(r), end='')\n",
    "            else:\n",
    "                print('{:4d}'.format(r), end='')\n",
    "        print()\n",
    "\n",
    "    time.sleep(0.3)\n",
    "    clear_output(wait=True)\n",
    "\n"
   ]
  },
  {
   "cell_type": "code",
   "execution_count": 3,
   "metadata": {},
   "outputs": [
    {
     "name": "stdout",
     "output_type": "stream",
     "text": [
      "5300001\n"
     ]
    }
   ],
   "source": [
    "b = 3\n",
    "n = 6440000\n",
    "m = 6450000\n",
    "\n",
    "x = (b ** n) % m\n",
    "print(x)"
   ]
  }
 ],
 "metadata": {
  "kernelspec": {
   "display_name": "Python 3",
   "language": "python",
   "name": "python3"
  },
  "language_info": {
   "codemirror_mode": {
    "name": "ipython",
    "version": 3
   },
   "file_extension": ".py",
   "mimetype": "text/x-python",
   "name": "python",
   "nbconvert_exporter": "python",
   "pygments_lexer": "ipython3",
   "version": "3.10.13"
  }
 },
 "nbformat": 4,
 "nbformat_minor": 2
}
